{
 "cells": [
  {
   "cell_type": "markdown",
   "metadata": {},
   "source": [
    "# Computer Architecture Lab\n",
    "\n",
    "Written by Samuel Berkun and Leena Elzeiny for the Going Down the EECS Stack Decal, modified by Bryan Ngo\n",
    "\n",
    "<!--- Developer's Notes: \n",
    "\n",
    "Half-Adder Solutions: \n",
    "When you finish, or if you get stuck, you can look at our solution here:\n",
    "https://www.multisim.com/content/34aTcNubsf7y7qV55STciQ/half-adder-solution/open/\n",
    "\n",
    "MUX Solutions:\n",
    "When you finish, or if you get stuck, you can look at our solution here: https://www.multisim.com/content/cDq6GobsfHpatVfhATpWx7/mp-solution/open/ \n",
    "--->"
   ]
  },
  {
   "cell_type": "markdown",
   "metadata": {},
   "source": [
    "# Logic Gates\n",
    "\n",
    "## The AND gate\n",
    "\n",
    "AND gates only output a 1 when both inputs are 1. Notice how when expressing the AND in boolean logic, we use the multiplication symbol.\n",
    "\n",
    "| A | B | A · B |\n",
    "|---|---|-------|\n",
    "| 0 | 0 | 0     |\n",
    "| 0 | 1 | 0     |\n",
    "| 1 | 0 | 0     |\n",
    "| 1 | 1 | 1     |\n",
    "\n",
    "In the below demo, you can toggle a low or high signal by clicking the letter.\n",
    "Run the cell to access the demos.\n"
   ]
  },
  {
   "cell_type": "code",
   "execution_count": null,
   "metadata": {
    "scrolled": false,
    "tags": [
     "remove_input",
     "remove-input"
    ]
   },
   "outputs": [],
   "source": [
    "%%html\n",
    "<iframe width=\"800\" height=\"600\" src=\"https://tinyurl.com/23eho9bq\">"
   ]
  },
  {
   "cell_type": "markdown",
   "metadata": {},
   "source": [
    "## The OR gate\n",
    "\n",
    "OR gates output a 1 when either input is a 1. Notice how when expressing the OR in boolean logic, we use the addition symbol.\n",
    "\n",
    "| A | B | A + B |\n",
    "|---|---|-------|\n",
    "| 0 | 0 | 0     |\n",
    "| 0 | 1 | 1     |\n",
    "| 1 | 0 | 1     |\n",
    "| 1 | 1 | 1     |"
   ]
  },
  {
   "cell_type": "code",
   "execution_count": null,
   "metadata": {},
   "outputs": [],
   "source": [
    "%%html\n",
    "<iframe width=\"800\" height=\"600\" src=\"https://tinyurl.com/25gxpqkc\">"
   ]
  },
  {
   "cell_type": "markdown",
   "metadata": {},
   "source": [
    "## The NOT Gate\n",
    "\n",
    "The NOT gate is a 1-input gate that inverts the input.\n",
    "The NOT gate can be symbolized as $\\lnot A$, $\\overline{A}$, or $!A$.\n",
    "\n",
    "| A | ¬A |\n",
    "|---|----|\n",
    "| 0 | 1  |\n",
    "| 1 | 0  |"
   ]
  },
  {
   "cell_type": "code",
   "execution_count": null,
   "metadata": {
    "scrolled": false,
    "tags": [
     "remove_input",
     "remove-input"
    ]
   },
   "outputs": [],
   "source": [
    "%%html\n",
    "<iframe width=\"800\" height=\"600\" src=\"https://tinyurl.com/22hbn2c5\">"
   ]
  },
  {
   "cell_type": "markdown",
   "metadata": {},
   "source": [
    "## The XOR gate\n",
    "\n",
    "This is an eXclusive OR, either input A is one or input B is one, but not both.\n",
    "This gate is very useful for arithmetic and certain other operations.\n",
    "\n",
    "| A | B | A ⊕ B |\n",
    "|---|---|--------|\n",
    "| 0 | 0 | 0      |\n",
    "| 0 | 1 | 1      |\n",
    "| 1 | 0 | 1      |\n",
    "| 1 | 1 | 1      |\n",
    "\n",
    "In boolean logic, the XOR gate can be represented by the expression $A \\oplus B = A \\cdot \\overline{B} + \\overline{A} \\cdot B$. In English, this means “Either A and not B or B and not A”. Notice how we just combined the lines where the output is true."
   ]
  },
  {
   "cell_type": "code",
   "execution_count": null,
   "metadata": {},
   "outputs": [],
   "source": [
    "%%html\n",
    "<iframe width=\"800\" height=\"600\" src=\"https://tinyurl.com/24voft6r\"></iframe>"
   ]
  },
  {
   "cell_type": "markdown",
   "metadata": {},
   "source": [
    "## Universal Gates: NAND and NOR\n",
    "\n",
    "The NAND gate is just the opposite of the AND gate; it returns 1 when either input is false, and 0 when both are true. Similarly, the NOR gate is just the opposite of the OR gate.\n",
    "\n",
    "| A | B | A NAND B | A NOR B |\n",
    "|---|---|----------|---------| \n",
    "| 0 | 0 | 1        | 1       |\n",
    "| 0 | 1 | 1        | 0       |\n",
    "| 1 | 0 | 1        | 0       |\n",
    "| 1 | 1 | 0        | 0       |\n",
    "\n",
    "\n",
    "These are called _universal gates_ because every single other gate can be made out of nand gates, or out of nor gates. In fact, in https://nandgame.com/, you can go through the process of building an entire computer just out of nand gates!\n",
    "\n",
    "NAND and NOR have the additional property that each of them can be made out of just 4 transistors each, which is why the other logic gates are often built from them.\n",
    "\n",
    "The Apollo Guidance Computer, which was used for moon missions in the 1960s, was built entirely with NOR gates! You can read more about its history and architecture here (image from same blog): http://www.righto.com/2019/09/a-computer-built-from-nor-gates-inside.html\n",
    "\n",
    "![Apollo Guidance Computer](agc-opened.jpg)\n",
    "Above: The Apollo Guidance Computer with the two trays separated. The tray on the left holds the logic circuitry built from NOR gates. The tray on the right holds memory and supporting circuitry. Source: blog linked above\n",
    "\n",
    "\n",
    "\n",
    "\n"
   ]
  },
  {
   "cell_type": "code",
   "execution_count": null,
   "metadata": {},
   "outputs": [],
   "source": [
    "%%html\n",
    "<iframe width=\"800\" height=\"600\" src=\"https://tinyurl.com/2ypm4meg\">"
   ]
  },
  {
   "cell_type": "markdown",
   "metadata": {},
   "source": [
    "# Challenge/Homework: Half Adder\n",
    "\n",
    "Now that we know how some logic gates work, we have what we need to build a half adder.\n",
    "This is a logic circuit that takes two 1-bit inputs, and returns their sum as a high bit and a low bit.\n",
    "\n",
    "\n",
    "| A | B | Sum |\n",
    "|---|---|-----|\n",
    "| 0 | 0 | 00  |\n",
    "| 0 | 1 | 01  |\n",
    "| 1 | 0 | 01  |\n",
    "| 1 | 1 | 10  |\n",
    "\n",
    "Alternatively, the two bits could represent a 1-bit sum, with a 1-bit carry.\n",
    "This is called a half-adder; half-adders are often chained together to make a full-adder. A full-adder takes 3 inputs (A, B, and a carry) and outputs two bits (a sum, and a carry).\n",
    "Full-adders can then be chained together to make 8-bit adders, 32-bit adders, etc.\n",
    "\n",
    "**You are only allowed to use the components in the \"Draw\" $\\to$ \"Logic Gates, Input and Output\" menu.**\n",
    "To make a wire, use \"Draw\" -> \"Add Wire\".\n",
    "\n",
    "Once you've built your half adder in Falstad, please upload a screenshot of your circuit to Gradescope. "
   ]
  },
  {
   "cell_type": "code",
   "execution_count": null,
   "metadata": {},
   "outputs": [],
   "source": [
    "%%html\n",
    "<iframe width=\"800\" height=\"600\" src=\"https://tinyurl.com/23mw9pjq\">"
   ]
  },
  {
   "cell_type": "markdown",
   "metadata": {},
   "source": [
    "# Challenge/Homework: Multiplexer\n",
    "\n",
    "Commonly known as a mux, a multiplexer has 2 inputs (A and B), 1 select bit (S0), and 1 output (Z).\n",
    "The select bit (S0) decides which input to pass to the output, much like steering the correct signal.\n",
    "Think of it like the condition in an `if` statement:\n",
    "\n",
    "```python\n",
    "if S0 == 0:\n",
    "    Z = A  # when S0 is 0, it takes whatever signal is on the 0 pin\n",
    "elif S0 == 1:\n",
    "    Z = B  # when S0 is 1, it takes whatever signal is on the 1 pin\n",
    "```\n",
    "<!-- | A | B | S | Z |\n",
    "|---|---|---|---|\n",
    "| 0 | 0 | 0 | 0 |\n",
    "| 0 | 1 | 0 | 0 |\n",
    "| 1 | 0 | 0 | 1 |\n",
    "| 1 | 1 | 0 | 1 |\n",
    "| 0 | 0 | 1 | 0 |\n",
    "| 0 | 1 | 1 | 1 |\n",
    "| 1 | 0 | 1 | 0 |\n",
    "| 1 | 1 | 1 | 1 | -->\n",
    "\n",
    "| S0 | Z |\n",
    "|----|---|\n",
    "| 0  | A |\n",
    "| 1  | B |\n",
    "\n",
    "Need more options? Let's introduce an additional bit S1. Now that our selector is 2 bits long, we can check for values of 00, 01, 10, and 11.\n",
    "This allows us to select up to 4 inputs.\n",
    "In general, with $n$ selection bits we can select from $2^n$ inputs.\n",
    "\n",
    "In the next challenge, try to build the 1-bit mux out of logic gates.\n",
    "\n",
    "**You are only allowed to use the components in the \"Draw\" $\\to$ \"Logic Gates, Input and Output\" menu.**\n",
    "\n",
    "Once you've built your half adder in Falstad, please upload a screenshot of your circuit to Gradescope. "
   ]
  },
  {
   "cell_type": "code",
   "execution_count": null,
   "metadata": {},
   "outputs": [],
   "source": [
    "%%html\n",
    "<iframe width=\"800\" height=\"600\" src=\"https://tinyurl.com/2xvzt4uo\">"
   ]
  },
  {
   "cell_type": "markdown",
   "metadata": {},
   "source": [
    "# ALU\n",
    "\n",
    "The Arithmetic Logic Unit is the chip that does all the calculations in our CPU. It takes in 2 operands, and an opcode that determines the operation to be performed.\n",
    "\n",
    "![image of alu](alu1.png)\n",
    "\n",
    "How we build this is we calculate every operation using our 2 operands. Then we choose which result based on the opcode in the MUX. We can’t “turn off” circuits, which is why we must execute every operation every time.\n",
    "\n",
    "<img src=\"alu2.png\" alt=\"another alu, with 6 operations\" style=\"width:600px;\"/>\n",
    "\n",
    "## ALU Demo\n",
    "\n",
    "The below demo is a 1-bit ALU that can do four operations: AND, OR, XOR, and MOV. Which opcode corresponds to each operation?\n"
   ]
  },
  {
   "cell_type": "code",
   "execution_count": null,
   "metadata": {},
   "outputs": [],
   "source": [
    "%%html\n",
    "<iframe width=\"800\" height=\"600\" src=\"https://tinyurl.com/27zpc85t\"></iframe>"
   ]
  },
  {
   "cell_type": "markdown",
   "metadata": {},
   "source": [
    "## Calculator Demo\n",
    "\n",
    "This demo was too complex to build in multisim, but here's an ALU simulation that can handle addition (opcode 00), subtraction (opcode 01), multiplication (opcode 10), and division (opcode 11). This is effectively a 4-function calculator! Notice that instead of taking in each input individually, the calculator takes in one 18-bit instruction which is composed of the 2-bit opcode and both 8-bit inputs.\n"
   ]
  },
  {
   "cell_type": "code",
   "execution_count": null,
   "metadata": {},
   "outputs": [],
   "source": [
    "%%html\n",
    "<iframe src=\"https://drive.google.com/file/d/1kiCHsdUWrl-hYuKGmZ7EJ-jigG8QjExq/preview\" width=\"640\" height=\"480\"></iframe>"
   ]
  }
 ],
 "metadata": {
  "kernelspec": {
   "display_name": "Python 3",
   "language": "python",
   "name": "python3"
  },
  "language_info": {
   "codemirror_mode": {
    "name": "ipython",
    "version": 3
   },
   "file_extension": ".py",
   "mimetype": "text/x-python",
   "name": "python",
   "nbconvert_exporter": "python",
   "pygments_lexer": "ipython3",
   "version": "3.11.7"
  }
 },
 "nbformat": 4,
 "nbformat_minor": 4
}
