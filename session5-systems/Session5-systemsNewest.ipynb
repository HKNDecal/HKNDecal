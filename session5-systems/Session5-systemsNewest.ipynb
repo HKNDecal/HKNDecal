{
 "cells": [
  {
   "cell_type": "markdown",
   "metadata": {},
   "source": [
    "# Compilers and Languages"
   ]
  },
  {
   "cell_type": "code",
   "execution_count": null,
   "metadata": {},
   "outputs": [],
   "source": [
    "!pip install 'textx==2.0.1'\n",
    "import deborahscript\n",
    "import utils"
   ]
  },
  {
   "cell_type": "markdown",
   "metadata": {},
   "source": [
    "## Simple GCD Program\n",
    "\n",
    "This program computes the [GCD](https://en.wikipedia.org/wiki/Greatest_common_divisor) of two numbers. Run the cell and hit Enter after typing in each number."
   ]
  },
  {
   "cell_type": "code",
   "execution_count": null,
   "metadata": {},
   "outputs": [],
   "source": [
    "deborahscript.run(\"gcd.ds\")"
   ]
  },
  {
   "cell_type": "markdown",
   "metadata": {
    "collapsed": true
   },
   "source": [
    "## What does this function do?\n",
    "Run the cell and try entering a few different numbers."
   ]
  },
  {
   "cell_type": "code",
   "execution_count": null,
   "metadata": {},
   "outputs": [],
   "source": [
    "%%ds\n",
    "AsSiGN x EqUaLs (INTINPUT) EnDLinE\n",
    "AsSiGN a EqUaLs (1) EnDLinE\n",
    "LoOP (x) BeGIn\n",
    "    a EqUaLs ((a) * (x)) EnDLinE\n",
    "    x EqUaLs ((x) - (1)) EnDLinE\n",
    "EnDLinE\n",
    "PrInT (a) EnDLinE"
   ]
  },
  {
   "cell_type": "markdown",
   "metadata": {},
   "source": [
    "## Let's write our own language!\n",
    "Go ahead and open up the file labeled `youscript.tx`, and fill in the `REPLACE_ME`'s with your own text!\n",
    "\n",
    "After that, click Kernel -> Restart & Clear Output, re-run the first cell, and jump here to test out your new language!\n",
    "\n",
    "**HW Question: Write a script that takes in an input `n` and returns the `n`-th [Fibonacci number](https://en.wikipedia.org/wiki/Fibonacci_number). Hint, you're going to want to use the non-recursive version since we don't have functions in our language.**"
   ]
  },
  {
   "cell_type": "code",
   "execution_count": null,
   "metadata": {},
   "outputs": [],
   "source": [
    "%%ys\n"
   ]
  },
  {
   "cell_type": "markdown",
   "metadata": {
    "collapsed": true
   },
   "source": [
    "# Operating Systems"
   ]
  },
  {
   "cell_type": "markdown",
   "metadata": {},
   "source": [
    "## Threads Demo"
   ]
  },
  {
   "cell_type": "markdown",
   "metadata": {},
   "source": [
    "This cell creates two Python threads that execute independently. Each thread prints the numbers 0 through 14 in order. You should see the output from both threads interleaving (at least a little bit)!\n",
    "\n",
    "Once each thread has finished printing, you can stop the cell by pressing the STOP button (looks like a black square). Otherwise, it will keep running forever without producing any more output."
   ]
  },
  {
   "cell_type": "code",
   "execution_count": null,
   "metadata": {},
   "outputs": [],
   "source": [
    "import _thread\n",
    "from time import sleep\n",
    "\n",
    "# Define a function for the thread\n",
    "def print_arr( threadName, array):\n",
    "    for el in array:\n",
    "        print(threadName, el)\n",
    "\n",
    "# Create two threads as follows\n",
    "try:\n",
    "    _thread.start_new_thread( print_arr, (\"Thread-1\", range(0,15), ) )\n",
    "    _thread.start_new_thread( print_arr, (\"Thread-2\", range(0,15), ) )\n",
    "except:\n",
    "    print(\"Error: unable to start thread\")\n",
    "    \n",
    "while (1):\n",
    "    pass"
   ]
  },
  {
   "cell_type": "markdown",
   "metadata": {},
   "source": [
    "Now lets take a look at an example of a race condition, to understand when threading can go wrong!\n",
    "\n",
    "Let's say you and your friend are on vacation. You both share a checking account. When either of you wakes up, you immediately check the balance, decide to withdraw half for breakfast, brush your teeth, then withdraw the money and leave for breakfast.\n",
    "\n",
    "As an example, if your account starts at \\\\$100, and you wake up before your friend, you get \\\\$50 for breakfast, and they only get \\\\$25 (the early bird gets the worm!)."
   ]
  },
  {
   "cell_type": "markdown",
   "metadata": {},
   "source": [
    "Let's define some classes to help with this example. The first is the bank account."
   ]
  },
  {
   "cell_type": "code",
   "execution_count": null,
   "metadata": {},
   "outputs": [],
   "source": [
    "class BankAccount(object):\n",
    "    def __init__(self, balance):\n",
    "        self.balance = balance\n",
    "    def check_balance(self):\n",
    "        return self.balance\n",
    "    def withdraw(self, amt):\n",
    "        self.balance -= amt\n",
    "        return amt"
   ]
  },
  {
   "cell_type": "markdown",
   "metadata": {},
   "source": [
    "Now we define the `Person` class. Our first implementation will be faulty, so we'll name this class `FaultyPerson`."
   ]
  },
  {
   "cell_type": "code",
   "execution_count": null,
   "metadata": {},
   "outputs": [],
   "source": [
    "from threading import Thread\n",
    "\n",
    "class FaultyPerson(Thread):\n",
    "    def __init__(self, name, acct):\n",
    "        super(FaultyPerson, self).__init__()\n",
    "        self.name = name\n",
    "        self.acct = acct\n",
    "        \n",
    "    # Wakeup operation\n",
    "    def run(self):\n",
    "        amt_to_withdraw = self.acct.check_balance()//2\n",
    "        # Need to brush my teeth!\n",
    "        sleep(3)\n",
    "        self.acct.withdraw(amt_to_withdraw)\n",
    "        print(self.name + \": I got: $\" + str(amt_to_withdraw))\n",
    "        print(self.name + \": Done!\")"
   ]
  },
  {
   "cell_type": "markdown",
   "metadata": {},
   "source": [
    "Now we simulate the above example! When you see done printed twice, stop the cell!"
   ]
  },
  {
   "cell_type": "code",
   "execution_count": null,
   "metadata": {},
   "outputs": [],
   "source": [
    "acct = BankAccount(100)\n",
    "me = FaultyPerson('me', acct)\n",
    "friend = FaultyPerson('friend', acct)\n",
    "\n",
    "# Create two threads as follows\n",
    "print(\"Starting Me!\")\n",
    "me.start()\n",
    "# Our friend's a late riser!\n",
    "sleep(2)\n",
    "print(\"Starting Friend!\")\n",
    "friend.start()\n",
    "\n",
    "while(1):\n",
    "    pass"
   ]
  },
  {
   "cell_type": "markdown",
   "metadata": {},
   "source": [
    "Now let's check our account balance!"
   ]
  },
  {
   "cell_type": "code",
   "execution_count": null,
   "metadata": {},
   "outputs": [],
   "source": [
    "print(acct.check_balance())"
   ]
  },
  {
   "cell_type": "markdown",
   "metadata": {},
   "source": [
    "Oh no! It seems that we may have to cut our trip short - we were supposed to be left with \\\\$25, but now we've blown through the whole budget for the trip just on breakfast!\n",
    "\n",
    "Let's try this again, but this time with locking! Before you check the balance, you're going to get a lock on your account. Then, you'll check the balance, brush your teeth, withdraw your breakfast money, and release the lock on your account. When your friend wakes up, they'll try to get a lock on your account, but won't be allowed to. In effect, you've told your friend, \"Hey, I'm in the middle of a *critical* operation involving our bank account - don't touch it till I'm done please!\" They'll wait till you're done, and then repeat the same operation as you."
   ]
  },
  {
   "cell_type": "code",
   "execution_count": null,
   "metadata": {},
   "outputs": [],
   "source": [
    "class Person(Thread):\n",
    "    def __init__(self, name, acct, acctLock):\n",
    "        super(Person, self).__init__()\n",
    "        self.name = name\n",
    "        self.acct = acct\n",
    "        self.acctLock = acctLock\n",
    "        \n",
    "    # Wakeup operation\n",
    "    def run(self):\n",
    "        print(self.name + \": Grabbing lock!\")\n",
    "        self.acctLock.acquire()\n",
    "        print(self.name + \": Grabbed lock!\")\n",
    "        amt_to_withdraw = self.acct.check_balance()//2\n",
    "        # Need to brush my teeth!\n",
    "        sleep(3)\n",
    "        self.acct.withdraw(amt_to_withdraw)\n",
    "        print(self.name + \": I got: $\" + str(amt_to_withdraw))\n",
    "        self.acctLock.release()\n",
    "        print(self.name + \": Done!\")"
   ]
  },
  {
   "cell_type": "markdown",
   "metadata": {},
   "source": [
    "Now we rewind the clock to today morning, and try again! Notice the inclusion of the variable `acctLock` - this is the lock we are using on your shared account."
   ]
  },
  {
   "cell_type": "code",
   "execution_count": null,
   "metadata": {},
   "outputs": [],
   "source": [
    "from threading import Lock\n",
    "acct = BankAccount(100)\n",
    "acctLock = Lock()\n",
    "me = Person('me', acct, acctLock)\n",
    "friend = Person('friend', acct, acctLock)\n",
    "\n",
    "# Create two threads as follows\n",
    "print(\"Starting Me!\")\n",
    "me.start()\n",
    "# Our friend's a late riser!\n",
    "sleep(2)\n",
    "print(\"Starting Friend!\")\n",
    "friend.start()\n",
    "\n",
    "while(1):\n",
    "    pass"
   ]
  },
  {
   "cell_type": "markdown",
   "metadata": {},
   "source": [
    "We see that you got \\\\$50, and your friend got \\\\$25, as expected. We can check our balance, and see that it is the correct amount (\\\\$25)!"
   ]
  },
  {
   "cell_type": "code",
   "execution_count": null,
   "metadata": {},
   "outputs": [],
   "source": [
    "print(acct.check_balance())"
   ]
  },
  {
   "cell_type": "markdown",
   "metadata": {},
   "source": [
    "Now you and your friend are free to continue enjoying your vacation!"
   ]
  },
  {
   "cell_type": "markdown",
   "metadata": {},
   "source": [
    "## Virtual Memory"
   ]
  },
  {
   "cell_type": "markdown",
   "metadata": {},
   "source": [
    "Try running the small program below called \"crash\". It tries to write over other apps' memory. Without virtual memory, \"crash\" might be able to bring down your entire computer, but with virtual memory, its effects will be much more limited. Run it below."
   ]
  },
  {
   "cell_type": "code",
   "execution_count": null,
   "metadata": {},
   "outputs": [],
   "source": [
    "%%sh\n",
    "./crash"
   ]
  },
  {
   "cell_type": "markdown",
   "metadata": {},
   "source": [
    "See how it says \"Segmentation fault\"? That's a fancy way of saying that the `crash` program just crashed. That's because the operating system detected that it was attempting to access other programs' memory, said, \"you've been a bad program\", and stopped it. It wasn't able to damage other programs, because it was isolated from other programs' memory."
   ]
  },
  {
   "cell_type": "markdown",
   "metadata": {},
   "source": [
    "An aside: You may be wondering what **exactly** this program is doing. Run `!cat crash.c` in the cell below this to find out."
   ]
  },
  {
   "cell_type": "code",
   "execution_count": null,
   "metadata": {},
   "outputs": [],
   "source": [
    "!cat crash.c"
   ]
  },
  {
   "cell_type": "markdown",
   "metadata": {},
   "source": [
    "## The Filesystem"
   ]
  },
  {
   "cell_type": "markdown",
   "metadata": {},
   "source": [
    "### Understanding Directories and the ls command"
   ]
  },
  {
   "cell_type": "markdown",
   "metadata": {},
   "source": [
    "One function of operating systems is to protect users from snooping on each other's activities. Operating systems implement this by using a permissions system. Let's see that in action.\n",
    "\n",
    "First, let's look at your own files:"
   ]
  },
  {
   "cell_type": "code",
   "execution_count": null,
   "metadata": {},
   "outputs": [],
   "source": [
    "!ls"
   ]
  },
  {
   "cell_type": "markdown",
   "metadata": {},
   "source": [
    "The `ls` command lets us take a look at the items in your current directory in the filesystem. You can think of your current directory as the environment in which you are currently operating in. You can see that these are items from the directory of the github binder we have set up for you. What is the name of this directory that we are in? You can find out your current directory with the pwd command (which stands for pwd)"
   ]
  },
  {
   "cell_type": "code",
   "execution_count": null,
   "metadata": {},
   "outputs": [],
   "source": [
    "!pwd"
   ]
  },
  {
   "cell_type": "markdown",
   "metadata": {},
   "source": [
    "You should see the directory `/home/jovyan/session5`, Don't worry about the specifics of jovyan (this is a jupiter notebook thing)"
   ]
  },
  {
   "cell_type": "markdown",
   "metadata": {},
   "source": [
    "Looking back at the results of the 'ls' command, some of these are files, like `deborahscript.txt`. The other item type  you see is a directory. An example of this is `filesys`. We can say that `filesys` is a *subdirectory* of the `session5` directory. \n",
    "\n",
    "#### Use the ls command followed by the directory you want to look into to see the items in the filesys directory (remember to  use ! before each command)"
   ]
  },
  {
   "cell_type": "code",
   "execution_count": null,
   "metadata": {},
   "outputs": [],
   "source": [
    "!ls filesys"
   ]
  },
  {
   "cell_type": "markdown",
   "metadata": {},
   "source": [
    "### cat, cp, and rm"
   ]
  },
  {
   "cell_type": "markdown",
   "metadata": {},
   "source": [
    "Now you can see a list of files in the `filesys` directory. Lets take a look at several command line tools we can use to have a better understanding of the filesystem."
   ]
  },
  {
   "cell_type": "markdown",
   "metadata": {},
   "source": [
    "For files that contain text, we are given the built in `cat` command. This command allows us to look at the text inside of a file. The form of the command is `cat <file path>`. \n",
    "\n",
    "#### Try to read the contents of `thetext.txt` (remember we can't just say the filename because we are not in the filesys directory). \n",
    "\n",
    "For example if we wanted to call a funtion on the file `car.txt`, we would need to call `<function_name> filesys/car.txt`"
   ]
  },
  {
   "cell_type": "code",
   "execution_count": null,
   "metadata": {},
   "outputs": [],
   "source": []
  },
  {
   "cell_type": "markdown",
   "metadata": {},
   "source": [
    "Once you are able to display the text in `thetext.txt`, try and display the content of `empty.txt` (hint, should be empty)"
   ]
  },
  {
   "cell_type": "markdown",
   "metadata": {},
   "source": [
    "Now let's say we wanted to make a copy of `thetext.txt`, we can use the `cp` command. The copy command creates a copy of a given file. It has the form `cp <source_file_path> <destination_path>`. Lets say that you wanted to copy the file `empty.txt` to a new file called `stillempty.txt` (both in filesys directory). We would use the form `cp filesys/empty.txt filesys/stillempty.txt`.\n",
    "\n",
    "#### Now use the command to make a copy of `thetext.txt` into a new file of your choice."
   ]
  },
  {
   "cell_type": "code",
   "execution_count": null,
   "metadata": {},
   "outputs": [],
   "source": []
  },
  {
   "cell_type": "markdown",
   "metadata": {},
   "source": [
    "Now that we have the copy of the file, lets say that we wanted to now remove the original. We can use the `rm` command. This command allows us to remove files and directories. For example lets say that we wanted to remove the `emptytext.txt` file, we would call `rm filesys/emptytext.txt`.\n",
    "#### Use rm to delete the original thetext.txt that we just copied. Then use an ls command to see that the file was deleted (and renamed from the previous section)"
   ]
  },
  {
   "cell_type": "code",
   "execution_count": null,
   "metadata": {},
   "outputs": [],
   "source": []
  },
  {
   "cell_type": "markdown",
   "metadata": {},
   "source": [
    "Now we just copied a file to a new name and deleted the original. This is similar to simply renaming a file. Luckily we have the `mv` command that does just this. `mv` takes a file and \"moves\" it to a new location with a specified name (similar to renaming). The format for a `mv` call is: `mv  <source_file_path> <destination_path>`. For example if we wanted to rename `emptytext.txt` to `useless.txt`, we would call `move filesys/emptytext.txt filesys/useless.txt`\n",
    "#### Use mv to move/rename the file that you created back to thetext.txt (keep it in the same directory). Use an ls command to confirm this was done correctly"
   ]
  },
  {
   "cell_type": "code",
   "execution_count": null,
   "metadata": {},
   "outputs": [],
   "source": []
  }
 ],
 "metadata": {
  "interpreter": {
   "hash": "927263bdb04ea84154b55e8a4b22070870b91b1193e47152ef2761c9623a4631"
  },
  "kernelspec": {
   "display_name": "Python 3.8.10 64-bit ('base': conda)",
   "name": "python3"
  },
  "language_info": {
   "codemirror_mode": {
    "name": "ipython",
    "version": 3
   },
   "file_extension": ".py",
   "mimetype": "text/x-python",
   "name": "python",
   "nbconvert_exporter": "python",
   "pygments_lexer": "ipython3",
   "version": "3.8.10"
  }
 },
 "nbformat": 4,
 "nbformat_minor": 2
}
