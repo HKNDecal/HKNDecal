{
 "cells": [
  {
   "cell_type": "markdown",
   "metadata": {},
   "source": [
    "# Going Down the EECS Stack Lab: Security\n",
    "\n",
    "-----"
   ]
  },
  {
   "cell_type": "markdown",
   "metadata": {},
   "source": [
    "Welcome to EECS Decal Session 4: Computer Security!\n",
    "\n",
    "In this demo, you will be exploring a few examples of common web attacks\n",
    "through a sample to-do list application. Here is the web attacks that you will go over:\n",
    "\n",
    "- XSS (Cross-Site-Scripting)\n",
    "- SQL Injection\n",
    "- Clickjacking\n",
    "\n",
    "First, we will observe the effects of Cross-site scripting in two forms:\n",
    "\n",
    "1. Stored XSS\n",
    "2. Reflected XSS\n",
    "\n",
    "Then, we will show an example of SQL Injection which may result in some\n",
    "interesting effects to your to-do list website. ;)"
   ]
  },
  {
   "cell_type": "markdown",
   "metadata": {},
   "source": [
    "# Common Web Attacks"
   ]
  },
  {
   "cell_type": "markdown",
   "metadata": {},
   "source": [
    "## XSS (Cross-Site-Scripting) attacks"
   ]
  },
  {
   "cell_type": "markdown",
   "metadata": {},
   "source": [
    "XSS attacks happens when an application receives and run data that contains malicious Javascript code. This can be done by passing input that contains a [`<script>` tag](https://developer.mozilla.org/en-US/docs/Web/HTML/Element/script).\n",
    "\n",
    "A `<script>` tag is a type of HTML (code that displays webpages) tag that lets you put Javascript (a programming language used on the web) in it. The script inside the script tag is executed as the browser processes the markup. \n",
    "\n",
    "For example: `<script>alert(\"lol\")</script>`\n",
    "\n",
    "Later in this lab, we will explore an example where we pass an input containing a `<script>` tag to our TODO list database and observe its payload when we reload the database. \n",
    "\n",
    "For more information about XSS attacks, see [here](https://www.acunetix.com/websitesecurity/cross-site-scripting/)."
   ]
  },
  {
   "cell_type": "markdown",
   "metadata": {},
   "source": [
    "## SQL Injection"
   ]
  },
  {
   "cell_type": "markdown",
   "metadata": {},
   "source": [
    "[SQL injection](https://owasp.org/www-community/attacks/SQL_Injection) is a code injection technique that allows an attacker to interfere the queries between an application and its database. Bad things can happen when unsanitized input is executed. For example, consider the following code that is part of a database system:"
   ]
  },
  {
   "cell_type": "code",
   "execution_count": null,
   "metadata": {
    "scrolled": true
   },
   "outputs": [],
   "source": [
    "#...\n",
    "#... cursor = sqlite3.connect('db.sql3').cursor  # do not uncomment this\n",
    "#... \n",
    "#...\n",
    "\n",
    "happy_query = 'EECS Decal'\n",
    "\n",
    "query = {'name': [happy_query]}\n",
    "todo_item_name = query['name'][0]\n",
    "sql = f\"DELETE FROM todos WHERE items = '{todo_item_name}'\"\n",
    "\n",
    "#... cursor.executescript(sql)\n",
    "print(sql)"
   ]
  },
  {
   "cell_type": "markdown",
   "metadata": {},
   "source": [
    "The sql that the cursor will execute is `DELETE FROM todos WHERE items = 'EECS Decal'`.\n",
    "The query will delete any item from our TODO list that is equal to our target phrase.\n",
    "So far so good.\n",
    "However, if an attacker inputs the following text instead:"
   ]
  },
  {
   "cell_type": "code",
   "execution_count": null,
   "metadata": {},
   "outputs": [],
   "source": [
    "#...\n",
    "#... cursor = sqlite3.connect('db.sql3').cursor  # do not uncomment this\n",
    "#... \n",
    "#...\n",
    "\n",
    "evil_query = \"' OR ''='\"\n",
    "\n",
    "query = {'name': [evil_query]}\n",
    "todo_item_name = query['name'][0]\n",
    "sql = f\"DELETE FROM todos WHERE items = '{todo_item_name}'\"\n",
    "\n",
    "#... cursor.executescript(sql)\n",
    "print(sql)"
   ]
  },
  {
   "cell_type": "markdown",
   "metadata": {},
   "source": [
    "This is not good. Since `''=''` is always true, the `DELETE` statement is going to delete every entry in the table.\n",
    "But why stop at `DELETE`? Let's see what we can do with the `INSERT` command.\n",
    "This is what we expect an `INSERT` command to do:"
   ]
  },
  {
   "cell_type": "code",
   "execution_count": null,
   "metadata": {},
   "outputs": [],
   "source": [
    "#...\n",
    "#... cursor = sqlite3.connect('db.sql3').cursor  # do not uncomment this\n",
    "#... \n",
    "#...\n",
    "\n",
    "happy_query = 'EECS Decal'\n",
    "\n",
    "query = {'name': [happy_query]}\n",
    "todo_item_name = query['name'][0]\n",
    "sql = f\"INSERT INTO todos VALUES('{todo_item_name}')\"\n",
    "\n",
    "#... cursor.executescript(sql)\n",
    "print(sql)"
   ]
  },
  {
   "cell_type": "markdown",
   "metadata": {},
   "source": [
    "If someone is not satisfied with deleting everything on the table, but wants to get rid of the table as well, they might come up with a mischievous command that looks like this:"
   ]
  },
  {
   "cell_type": "code",
   "execution_count": null,
   "metadata": {},
   "outputs": [],
   "source": [
    "#...\n",
    "#... cursor = sqlite3.connect('db.sql3').cursor  # do not uncomment this\n",
    "#... \n",
    "#...\n",
    "\n",
    "mischievous_query = \"have a great day'); DROP TABLE todos--\"\n",
    "\n",
    "query = {'name': [mischievous_query]}\n",
    "todo_item_name = query['name'][0]\n",
    "sql = f\"INSERT INTO todos VALUES('{todo_item_name}')\"\n",
    "\n",
    "#... cursor.executescript(sql)\n",
    "print(sql)"
   ]
  },
  {
   "cell_type": "markdown",
   "metadata": {},
   "source": [
    "This works since multiple SQL queries can be placed on the same line when separated by a semicolon.\n",
    "Here's a comic from [xkcd](https://xkcd.com/327/) to explain what would happen in theory:\n",
    "\n",
    "![](files/exploits_of_a_mom.png)\n",
    "\n",
    "But fortunately, the server later in this demo does not respond to this attack. Phew.\n",
    "Here's a blank page that you can experiment with to see what other malicious queries you can generate."
   ]
  },
  {
   "cell_type": "code",
   "execution_count": null,
   "metadata": {},
   "outputs": [],
   "source": [
    "\n",
    "student_query = \"\"\n",
    "\n",
    "query = {'name': [student_query]}\n",
    "todo_item_name = query['name'][0]\n",
    "sql = f\"{todo_item_name}\""
   ]
  },
  {
   "cell_type": "markdown",
   "metadata": {},
   "source": [
    "## Clickjacking"
   ]
  },
  {
   "cell_type": "markdown",
   "metadata": {},
   "source": [
    "Clickjacking is a technique that tricks the user into clicking something that is different from what the user sees ([wikipedia: Clickjacking](https://www.google.com/)).\n",
    "\n",
    "<a style=\"color: inherit; text-decoration: none;\" href=\"https://en.wikipedia.org/wiki/Clickjacking\" title=\"No decoration\">lol</a>. Here's the real link: [real link to wikipedia](https://www.google.com/)\n",
    "\n",
    "... not really. The \"lol\" is the real real link if you click on it. \n",
    "I hope you get the point. What you see might not be what you think it is.\n",
    "For this example, you can use the link preview function in your browser to avoid being tricked. However below you will see an example where even that fails."
   ]
  },
  {
   "cell_type": "markdown",
   "metadata": {},
   "source": [
    "# Demo (OPTIONAL)"
   ]
  },
  {
   "cell_type": "markdown",
   "metadata": {},
   "source": [
    "First, run the following cell. If you are doing this on JupyterHub, do _not_ go to the link that is printed out, but follow the directions below."
   ]
  },
  {
   "cell_type": "code",
   "execution_count": null,
   "metadata": {
    "scrolled": true
   },
   "outputs": [],
   "source": [
    "%run server.py"
   ]
  },
  {
   "cell_type": "markdown",
   "metadata": {},
   "source": [
    "## Local Setup\n",
    "\n",
    "If you already have Git and Jupyter Notebook installed, follow these instructions:\n",
    "\n",
    "```bash\n",
    "git clone https://github.com/HKNDecal/HKNDecal.git  # clone the repo\n",
    "cd session4-security  # enter the security notebook folder\n",
    "jupyter notebook  # spin up the Jupyter notebook\n",
    "```\n",
    "\n",
    "If you wish to use Python instead of Jupyter Notebook, you can replace the command `jupyter notebook` above with `python server.py`. This will directly run the website instead."
   ]
  },
  {
   "cell_type": "markdown",
   "metadata": {},
   "source": [
    "Here are the four demos that we will go over:\n",
    "\n",
    "1. **Cross-Site-Scripting Vulnerability**:\n",
    "\n",
    "  In the text field, copy/paste the following line and add the item:\n",
    "  \n",
    "```html\n",
    "<script>alert(\"Alert! This is an XSS vulnerability\")</script>\n",
    "```\n",
    "  Now, reload the page and see what happens.\n",
    "\n",
    "2. **Relfected XSS Vulnerability**:\n",
    "\n",
    "  Copy/paste the URL below in and refresh to see the effects:\n",
    "\t<http://localhost:1050/?person=%3Cimg%20%20src=%22broken%20link%22%20onerror=%22alert(%27Triggered%27)%22/%3E>\n",
    "\n",
    "3. **SQL Injection**:\n",
    "\n",
    "  In the text field, copy/paste the following line:\n",
    "  \n",
    "```sql\n",
    "itemName'%3BDELETE FROM todos%3B--\n",
    "```\n",
    "  Add the item to the page, then refresh and examine behavior.\n",
    "  Now try to delete the same text field.\n",
    "  Do you notice something wrong?\n",
    "\n",
    "4. **Clickjacking**:\n",
    "\n",
    "  Click the link close to the bottom of the page and see what happens. ;)\n",
    "  You may need to try clicking a few times."
   ]
  }
 ],
 "metadata": {
  "interpreter": {
   "hash": "7cfe8d7f414896e598472f9902d3e196b34884d109058681e66c673b09bc797f"
  },
  "kernelspec": {
   "display_name": "Python 3.8.10 64-bit ('base': conda)",
   "name": "python3"
  },
  "language_info": {
   "codemirror_mode": {
    "name": "ipython",
    "version": 3
   },
   "file_extension": ".py",
   "mimetype": "text/x-python",
   "name": "python",
   "nbconvert_exporter": "python",
   "pygments_lexer": "ipython3",
   "version": "3.11.5"
  },
  "toc": {
   "base_numbering": 1,
   "nav_menu": {},
   "number_sections": true,
   "sideBar": true,
   "skip_h1_title": false,
   "title_cell": "Table of Contents",
   "title_sidebar": "Contents",
   "toc_cell": false,
   "toc_position": {},
   "toc_section_display": true,
   "toc_window_display": false
  }
 },
 "nbformat": 4,
 "nbformat_minor": 4
}
