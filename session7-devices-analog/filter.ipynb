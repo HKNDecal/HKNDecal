{
 "cells": [
  {
   "cell_type": "markdown",
   "metadata": {},
   "source": [
    "# Filtering Lab"
   ]
  },
  {
   "cell_type": "markdown",
   "metadata": {},
   "source": [
    "## A Review of Resistors/Resistance\n",
    "\n",
    ">Below is a basic voltage divider circuit, where the output voltage is exactly half the input voltage. Voltage dividers can be helpful in the instance where we have some fixed input voltage and want soem fixed output voltage. See if you can play around with the below circuit, change the input voltage from DC (Direct Current) to AC (Alternating Current) and see what happens."
   ]
  },
  {
   "cell_type": "code",
   "execution_count": 1,
   "metadata": {},
   "outputs": [
    {
     "data": {
      "text/html": [
       "<iframe src=\"https://www.falstad.com/circuit/circuitjs.html?ctz=CQAgjCAMB0l3BWcMBMcUHYMGZIA4UA2ATmIxAUgoqoQFMBaMMAKAHdxDxiUQU883XpBYAnTiGJd+gqVGRwxfAZOkqwPeWHgsA8stldsaVfJEA3CRt5gucqlQAstM1GgIWAexDYQhR-LOxIJIMBBUvgFOPixAA\" width=\"800\" height=\"600\"></iframe>\n"
      ],
      "text/plain": [
       "<IPython.core.display.HTML object>"
      ]
     },
     "metadata": {},
     "output_type": "display_data"
    }
   ],
   "source": [
    "%%html\n",
    "<iframe src=\"https://www.falstad.com/circuit/circuitjs.html?ctz=CQAgjCAMB0l3BWcMBMcUHYMGZIA4UA2ATmIxAUgoqoQFMBaMMAKAHdxDxiUQU883XpBYAnTiGJd+gqVGRwxfAZOkqwPeWHgsA8stldsaVfJEA3CRt5gucqlQAstM1GgIWAexDYQhR-LOxIJIMBBUvgFOPixAA\" width=\"800\" height=\"600\"></iframe>"
   ]
  },
  {
   "cell_type": "markdown",
   "metadata": {},
   "source": [
    "> Please describe the output once you change the input circuit to Alternating Current:\n",
    "\n",
    "***\n",
    "<**Your answer here:**>\n",
    "\n",
    "> Vs lbh fnvq gur bhgchg vf fgvyy unys gur vachg, lbh jbhyq or pbeerpg! Ab gevpxf, jr ner whfg abgvat ubj gur bhgchg, rira jvgu gur punatr bs jnirsbez sebz QP gb NP, vf fgvyy qvivqrq fvzvyneyl!\n",
    "\n",
    "https://rot13.com/"
   ]
  },
  {
   "cell_type": "markdown",
   "metadata": {},
   "source": [
    "## Motivating the idea of filters\n",
    "\n",
    "> Okay, so that's cool, we saw how AC circuits are still reduced in voltage, similar to DC. But alternating currents have *another* property, the frequency! Notice how when you swapped over to alternating currents, it became all wavy and repeated itself over periods of time? Wouldn't it be cool we could *only* reduce the output voltage for certain thresholds of frequencies? \n",
    "\n",
    "# RC filters\n",
    "\n",
    "> The most basic type of filter is the RC (Resistor-Capacitor) filter. These type of filters, depending on the structure of your circuit are able to either filter out values above a certain frequency or below a certain frequency. Now, the math is a bit complicated and it involves complex numbers and phasor analysis which will be covered more in depth in classes like EECS16B if you are interested, but just for the sake of an example, let's examine a low pass filter.\n",
    "\n",
    "$$V_{out} = \\frac{V_{in}}{\\sqrt{1 + \\omega ^ 2 * R ^ 2 * C ^ 2}}$$\n",
    "\n",
    "<sup> Tip: 𝜔 is just the symbol for frequency if you are wondering </sup>\n",
    "\n",
    "> You might be wondering, why is this a low-pass filter? Well, as 𝜔 approaches 0, you will notice that you can ignore the entire term past the 1 and you just get Vout = Vin. And as w approaches infinity, then the bottom term approaches infinity and you get Vout = Vin. What this means is only low frequencies *pass* through the filter, or it's a *low-pass filter*.\n",
    "\n",
    "> This reduction in voltage for certain frequencies is similar to resistance, in fact, in the world of alternating currents as opposed to direct currents, it is known as impedance. You will delve deeper into this in EECS16B.\n",
    "\n",
    "## Q & A with a low-pass filter (below)\n",
    "\n",
    "> First, examine the output and compare it to the input, notice anything different? What's different in the low-pass filter versus the voltage divider?\n",
    "\n",
    "<**Your answer here:**>\n",
    "\n",
    "\n",
    "> Va gur ybj-cnff svygre, gur bhgchg inyhrf frrz gb qrpernfr zber (nggrahngrf) nf gur serdhrapl vapernfrf jurernf gur bhgchg inyhrf qb abg frrz gb punatr zhpu jvgu ybj serdhrapvrf.\n",
    "https://rot13.com/\n",
    "\n",
    "---\n",
    "\n",
    "> Play around with the values of the resistor and capacitors a little, what do you notice changes? If we wanted to say, increase the attenuation (reduction) of higher frequencies, why would we be hesistant in replacing our resistor or capacitor with a higher resistor or capacitor?\n",
    "\n",
    "<**Your answer here:**>\n",
    "\n",
    "> Gur svygre frrzf gb nggrahngr zber ba nyy serdhrapvrf nf gur erfvfgnapr naq pncnpvgnapr vapernfrf, nygubhtu gur rssrpg vf fgvyy zber nccnerag ba uvture serdhrapvrf. Naq nf erfvfgnapr naq pncnpvgnapr qebcf, gur nggrahngvba rssrpg vf yrff nccnerag naq rira ng pregnva inyhrf, artyvoyr.\n",
    "\n",
    "https://rot13.com/\n"
   ]
  },
  {
   "cell_type": "code",
   "execution_count": 5,
   "metadata": {},
   "outputs": [
    {
     "data": {
      "text/html": [
       "<iframe src=\"https://www.falstad.com/circuit/circuitjs.html?ctz=CQAgjCAMB0l3BWcAWaAmAzAgbBjB2BSfZBNBADhCOusmoFMBaMMAKAHkRk5xt6EYNH3qi2Ac2680FKj3oY0oqGwBOINDxFT6YflA0I2AYx3b5G2QZjxImgJyOnz51Sap82L3kjZ8+YjskG0h2MACNLT16JSpokAwNXXhaGHYAe24E4Xoeeypg2Hh7TxxyAxyVAAsEjQS2IA\" width=\"800\" height=\"600\"></iframe>\n"
      ],
      "text/plain": [
       "<IPython.core.display.HTML object>"
      ]
     },
     "metadata": {},
     "output_type": "display_data"
    }
   ],
   "source": [
    "%%html\n",
    "<iframe src=\"https://www.falstad.com/circuit/circuitjs.html?ctz=CQAgjCAMB0l3BWcAWaAmAzAgbBjB2BSfZBNBADhCOusmoFMBaMMAKAHkRk5xt6EYNH3qi2Ac2680FKj3oY0oqGwBOINDxFT6YflA0I2AYx3b5G2QZjxImgJyOnz51Sap82L3kjZ8+YjskG0h2MACNLT16JSpokAwNXXhaGHYAe24E4Xoeeypg2Hh7TxxyAxyVAAsEjQS2IA\" width=\"800\" height=\"600\"></iframe>"
   ]
  },
  {
   "cell_type": "markdown",
   "metadata": {},
   "source": [
    "## Higher Order Filters\n",
    "\n",
    "> Okay, so now that we established we can't simply just increase reistance and capacitance of our low-pass filter to achieve this higher attenuation (reduction) on high frequencies, maybe we can just force the AC input to go through multiple inputs? Yes! This is a concept known as higher-order filter. Just add another stage to our filter to get that desired attenuation on high frequency without the big sacrifice to low frequencies."
   ]
  },
  {
   "cell_type": "code",
   "execution_count": 7,
   "metadata": {},
   "outputs": [
    {
     "data": {
      "text/html": [
       "<iframe src=\"https://www.falstad.com/circuit/circuitjs.html?ctz=CQAgjCAMB0l3BWEBmB0BskBMAWdn0B2SQwgTggUhCSpoFMBaMMAKAHMQsF0UAOHFx4gcYXtUisATiDK9u84QqhDWAYyGKt-QRNjxcZI8ZMm+4aFXRksZSGXII+fMkhhw2YYrO3pBy5C5qMHgaKGg2DXRcTRBowWQBFXcDHFN043NGGDAEYjI+QnwqQj4ecnCPaRE-WPjY6m4OOJjEwXrRcShWAHkW-2FCZG0JdRExWM6dZP04Qwz08xzcBBxSnFw+OAosLErINhllZSnlRoRmqbbx3inRgHcbydqz1gB7FBQ96hx7czdZvYijxuCo9oRukA\" width=\"800\" height=\"600\"></iframe>\n"
      ],
      "text/plain": [
       "<IPython.core.display.HTML object>"
      ]
     },
     "metadata": {},
     "output_type": "display_data"
    }
   ],
   "source": [
    "%%html\n",
    "<iframe src=\"https://www.falstad.com/circuit/circuitjs.html?ctz=CQAgjCAMB0l3BWEBmB0BskBMAWdn0B2SQwgTggUhCSpoFMBaMMAKAHMQsF0UAOHFx4gcYXtUisATiDK9u84QqhDWAYyGKt-QRNjxcZI8ZMm+4aFXRksZSGXII+fMkhhw2YYrO3pBy5C5qMHgaKGg2DXRcTRBowWQBFXcDHFN043NGGDAEYjI+QnwqQj4ecnCPaRE-WPjY6m4OOJjEwXrRcShWAHkW-2FCZG0JdRExWM6dZP04Qwz08xzcBBxSnFw+OAosLErINhllZSnlRoRmqbbx3inRgHcbydqz1gB7FBQ96hx7czdZvYijxuCo9oRukA\" width=\"800\" height=\"600\"></iframe>"
   ]
  },
  {
   "cell_type": "markdown",
   "metadata": {},
   "source": [
    "## Other types of filters\n",
    "1. Low-pass filter (covered)\n",
    "2. High-pass filter (only high frequencies can pass)\n",
    "3. Band-pass filter (only frequencies in certain ranges can pass)\n",
    "4. Band-stop filters (frequencies in certain ranges cannot pass)\n",
    "\n",
    "## Applications:\n",
    "> Most applications of filters are in the world of signals and processing those (think audio, radio). They also have applications in the field of medicine, networking and communications, and even image processing!"
   ]
  },
  {
   "cell_type": "code",
   "execution_count": null,
   "metadata": {},
   "outputs": [],
   "source": []
  }
 ],
 "metadata": {
  "interpreter": {
   "hash": "3f4aed6a2f630af4c0142e158686f77636178b8da20498ff36deb88145662954"
  },
  "kernelspec": {
   "display_name": "Python 3",
   "language": "python",
   "name": "python3"
  },
  "language_info": {
   "codemirror_mode": {
    "name": "ipython",
    "version": 3
   },
   "file_extension": ".py",
   "mimetype": "text/x-python",
   "name": "python",
   "nbconvert_exporter": "python",
   "pygments_lexer": "ipython3",
   "version": "3.8.3"
  }
 },
 "nbformat": 4,
 "nbformat_minor": 2
}
