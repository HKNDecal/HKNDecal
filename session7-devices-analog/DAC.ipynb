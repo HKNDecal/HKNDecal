{
 "cells": [
  {
   "cell_type": "markdown",
   "metadata": {},
   "source": [
    "# Digital-to-Analog Converter Lab\n",
    "\n",
    "Fa21: created by Alicia Matsumoto\n",
    "\n",
    "Sp24: edited by Bryan Ngo"
   ]
  },
  {
   "cell_type": "markdown",
   "metadata": {},
   "source": [
    "## Intro \n",
    "In this lab, we'll explore a circuit commonly used in many audio, video, and communication contexts. The operation it performs is not complicated, but is integral to allowing digital circuits to interact with a non-digital world."
   ]
  },
  {
   "cell_type": "markdown",
   "metadata": {},
   "source": [
    "The circuit below implements a 3-bit digital-to-analog converter (DAC), meaning the input is a 3-bit binary number (zeroes or ones). Play around with the values and answer the questions below.\n",
    "\n",
    "> For those who want to know more about the topology, this is an $R$—$2R$ DAC.\n",
    "> There are several other types of DACs, such as ΔΣ."
   ]
  },
  {
   "cell_type": "code",
   "execution_count": null,
   "metadata": {},
   "outputs": [],
   "source": [
    "%%html\n",
    "<iframe src=\"https://tinyurl.com/2y6q5hhx\" width=\"800\" height=\"600\">"
   ]
  },
  {
   "cell_type": "markdown",
   "metadata": {},
   "source": [
    "From left to right, we'll call the three voltage inputs our \"bits\", denoting the leftmost bit as the \"most significant bit\" and the rightmost bit as the \"least significant bit\".\n",
    "Every voltage source/bit takes either 0 V or 1 V as its value, and we'll analyze what that represents in the coming questions.\n",
    "\n",
    "For each of the following questions, set the most, middle, and least significant bits (big-endian, or ordered increasing from left to right) to the given values and observe the output at the analog output.\n",
    "Then, fill in the following table to help you answer the questions on Gradescope!"
   ]
  },
  {
   "cell_type": "markdown",
   "metadata": {},
   "source": [
    "| $b_2$ | $b_1$ | $b_0$ | out     |\n",
    "|-------|-------|-------|---------|\n",
    "| 0     | 0     | 0     | FILL IN |\n",
    "| 0     | 0     | 1     | FILL IN |\n",
    "| 0     | 1     | 0     | FILL IN |\n",
    "| 0     | 1     | 1     | FILL IN |\n",
    "| 1     | 0     | 0     | PREDICT |\n",
    "| 1     | 0     | 1     | PREDICT |\n",
    "| 1     | 1     | 0     | PREDICT |\n",
    "| 1     | 1     | 1     | PREDICT |"
   ]
  },
  {
   "cell_type": "markdown",
   "metadata": {},
   "source": [
    "Do you notice a pattern? Let's analyze it in a bit more detail.\n",
    "\n",
    "Binary numbers (bits) are the number base computers use for all of their operations, including counting.\n",
    "Every number can be converted between decimal notation (used by humans) and binary notation (used by computers).\n",
    "For example, the number 4 in binary can be represented as 100, which represents the expression $1 \\cdot 2^2 + 0 \\cdot 2^1 + 0 \\cdot 2^0$.\n",
    "This is called [positional notation](https://en.wikipedia.org/wiki/Positional_notation).\n",
    "\n",
    "Every 3-bit binary number can be converted to decimal in this way: let the position in the binary string represent powers of two, and let the zero or one represent whether or not we're adding in that particular value.\n",
    "Then, the voltage at the output of our DAC is proportional to the ratio between the decimal number being represented and the number of binary numbers we can represent with $N$ bits, or more mathematically:\n",
    "\n",
    "$$V_{out} = \\frac{V_0}{2^N} \\sum_{i = 0}^{N - 1} b_i 2^i$$\n",
    "\n",
    "Armed with this conversion method and the pattern of values from the first half, predict the output values for the following inputs to the DAC. Then use the circuit above to verify your answers.\n",
    "\n",
    "Finally, answer the following questions on Gradescope:\n",
    "\n",
    "1. **What is the lowest & highest voltage we can represent with a 3-bit (or any bit, for that matter) DAC?** Hint: the largest value is _not_ 1 V.\n",
    "2. **What is the smallest & largest step we can take with a 3-bit DAC?** Note: the smallest step establishes the _resolution_ of our DAC\n",
    "3. **Change the 1 kΩ and 2 kΩ resistors to 10 kΩ and 20 kΩ resistors, respectively, by double-clicking the element. How does the behavior of our DAC change, if at all?**"
   ]
  }
 ],
 "metadata": {
  "kernelspec": {
   "display_name": "Python 3",
   "language": "python",
   "name": "python3"
  },
  "language_info": {
   "codemirror_mode": {
    "name": "ipython",
    "version": 3
   },
   "file_extension": ".py",
   "mimetype": "text/x-python",
   "name": "python",
   "nbconvert_exporter": "python",
   "pygments_lexer": "ipython3",
   "version": "3.11.7"
  }
 },
 "nbformat": 4,
 "nbformat_minor": 2
}
