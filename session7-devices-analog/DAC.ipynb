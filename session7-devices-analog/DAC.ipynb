{
 "cells": [
  {
   "cell_type": "markdown",
   "metadata": {},
   "source": [
    "# Digital-Analog Converter Lab"
   ]
  },
  {
   "cell_type": "markdown",
   "metadata": {},
   "source": [
    "## Intro \n",
    "In this lab, we'll explore a circuit commonly used in many audio, video, and communication contexts. The operation it performs is not complicated, but is integral to allowing digital circuits to interact with a non-digital world."
   ]
  },
  {
   "cell_type": "markdown",
   "metadata": {},
   "source": [
    "The circuit below implements a 3-bit DAC, meaning the input is a 3-bit binary number (zeroes or ones). Play around with the values and answer the questions below."
   ]
  },
  {
   "cell_type": "code",
   "execution_count": 1,
   "metadata": {},
   "outputs": [
    {
     "data": {
      "text/html": [
       "<iframe src=\"https://tinyurl.com/y49hpjgw\" width=\"800\" height=\"600\"></iframe> \n",
       "\n",
       "# TODO: THIS IS BUGGY, AND WE NEED TO ADD IN THE ABILITY TO CONFIGURE THE VOLTAGE VALUES (LIKELY WITH SWITHCES?)\n",
       "# TO ANALYZE AN OUTPUT\n"
      ],
      "text/plain": [
       "<IPython.core.display.HTML object>"
      ]
     },
     "metadata": {},
     "output_type": "display_data"
    }
   ],
   "source": [
    "%%html\n",
    "<iframe src=\"https://tinyurl.com/y49hpjgw\" width=\"800\" height=\"600\"></iframe> \n",
    "\n",
    "# TODO: THIS IS BUGGY, AND WE NEED TO ADD IN THE ABILITY TO CONFIGURE THE VOLTAGE VALUES (LIKELY WITH SWITHCES?)\n",
    "# TO ANALYZE AN OUTPUT"
   ]
  },
  {
   "cell_type": "markdown",
   "metadata": {},
   "source": [
    "From left to right, we'll call the three voltage inputs our 'bits,' denoting the leftmost bit as the 'most significant bit' and the rightmost bit as the 'least significant bit.' Every voltage source/bit takes either 0 or 1V as its value, and we'll analyze what that represents in the coming questions."
   ]
  },
  {
   "cell_type": "markdown",
   "metadata": {},
   "source": [
    "For each of the following questions, set the most, middle, and least significant bits to the given values and observe the output at the `out` node. Then answer the following questions. "
   ]
  },
  {
   "cell_type": "markdown",
   "metadata": {},
   "source": [
    "#### 1. Set the bits to {0, 0, 1}. What is the output voltage?"
   ]
  },
  {
   "cell_type": "markdown",
   "metadata": {},
   "source": [
    "#### YOUR ANSWER HERE"
   ]
  },
  {
   "cell_type": "markdown",
   "metadata": {},
   "source": [
    "#### 2. Set the bits to {0, 1, 0}. What is the output voltage?"
   ]
  },
  {
   "cell_type": "markdown",
   "metadata": {},
   "source": [
    "#### YOUR ANSWER HERE"
   ]
  },
  {
   "cell_type": "markdown",
   "metadata": {},
   "source": [
    "#### 3. Set the bits to {0, 1, 1}. What is the output voltage"
   ]
  },
  {
   "cell_type": "markdown",
   "metadata": {},
   "source": [
    "#### YOUR ANSWER HERE"
   ]
  },
  {
   "cell_type": "markdown",
   "metadata": {},
   "source": [
    "Do you notice a pattern? Let's analyze it in a bit more detail.\n",
    "\n",
    "Binary numbers (bits) are the number base computers use for all of their operations, including counting. Every number can be represented in both decimal notation (most used by humans) and binary notation (most used by computers). For example, the number 4 in binary can be represented as 1, 0, 0, which we calculate as $1 \\cdot 2^2 + 0 \\cdot 2^1 + 0 \\cdot 2^0$.\n",
    "\n",
    "Every 3-bit binary number can be converted to decimal in this way: let the position in the binary string represent powers of two, and let the zero or one represent whether or not we're adding in that particular value. \n",
    "\n",
    "Armed with this conversion method and the pattern of values from questions 1-3, predict the output values for the following inputs to the DAC. Then use the circuit above to verify your answers."
   ]
  },
  {
   "cell_type": "markdown",
   "metadata": {},
   "source": [
    "#### 4. {1, 1, 0}"
   ]
  },
  {
   "cell_type": "markdown",
   "metadata": {},
   "source": [
    "#### YOUR ANSWER HERE"
   ]
  },
  {
   "cell_type": "markdown",
   "metadata": {},
   "source": [
    "#### 5. {1, 0, 1}"
   ]
  },
  {
   "cell_type": "markdown",
   "metadata": {},
   "source": [
    "#### YOUR ANSWER HERE"
   ]
  },
  {
   "cell_type": "markdown",
   "metadata": {},
   "source": [
    "#### 5. {1, 1, 1}"
   ]
  },
  {
   "cell_type": "code",
   "execution_count": null,
   "metadata": {},
   "outputs": [],
   "source": []
  }
 ],
 "metadata": {
  "kernelspec": {
   "display_name": "Python 3",
   "language": "python",
   "name": "python3"
  },
  "language_info": {
   "codemirror_mode": {
    "name": "ipython",
    "version": 3
   },
   "file_extension": ".py",
   "mimetype": "text/x-python",
   "name": "python",
   "nbconvert_exporter": "python",
   "pygments_lexer": "ipython3",
   "version": "3.7.3"
  }
 },
 "nbformat": 4,
 "nbformat_minor": 2
}
